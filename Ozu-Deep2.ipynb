{
 "cells": [
  {
   "cell_type": "code",
   "execution_count": 23,
   "metadata": {},
   "outputs": [
    {
     "name": "stdout",
     "output_type": "stream",
     "text": [
      "Collecting tflearn\n",
      "  Downloading tflearn-0.3.2.tar.gz (98kB)\n",
      "\u001b[K    100% |████████████████████████████████| 102kB 705kB/s a 0:00:01\n",
      "\u001b[?25hRequirement already satisfied: numpy in /home/semih/anaconda3/lib/python3.6/site-packages (from tflearn)\n",
      "Requirement already satisfied: six in /home/semih/anaconda3/lib/python3.6/site-packages (from tflearn)\n",
      "Requirement already satisfied: Pillow in /home/semih/anaconda3/lib/python3.6/site-packages (from tflearn)\n",
      "Building wheels for collected packages: tflearn\n",
      "  Running setup.py bdist_wheel for tflearn ... \u001b[?25ldone\n",
      "\u001b[?25h  Stored in directory: /home/semih/.cache/pip/wheels/fb/06/72/0478c938ca315c6fddcce8233b80ec91a115ce4496a27e8c90\n",
      "Successfully built tflearn\n",
      "Installing collected packages: tflearn\n",
      "Successfully installed tflearn-0.3.2\n"
     ]
    }
   ],
   "source": [
    "!pip install tflearn"
   ]
  },
  {
   "cell_type": "code",
   "execution_count": 1,
   "metadata": {},
   "outputs": [
    {
     "name": "stderr",
     "output_type": "stream",
     "text": [
      "/home/semih/anaconda3/lib/python3.6/site-packages/h5py/__init__.py:36: FutureWarning: Conversion of the second argument of issubdtype from `float` to `np.floating` is deprecated. In future, it will be treated as `np.float64 == np.dtype(float).type`.\n",
      "  from ._conv import register_converters as _register_converters\n"
     ]
    }
   ],
   "source": [
    "%matplotlib inline\n",
    "import tflearn\n",
    "\n",
    "import pickle\n",
    "import tensorflow as tf\n",
    "import pandas as pd\n",
    "import numpy as np\n",
    "import math\n",
    "import timeit\n",
    "import matplotlib.pyplot as plt\n",
    "from six.moves import cPickle as pickle\n",
    "import os\n",
    "import platform\n",
    "from subprocess import check_output\n",
    "from tflearn.data_preprocessing import ImagePreprocessing\n",
    "from tflearn.data_augmentation import ImageAugmentation\n"
   ]
  },
  {
   "cell_type": "code",
   "execution_count": 2,
   "metadata": {},
   "outputs": [],
   "source": [
    "def var(name, shape, init=None, std=None):\n",
    "    if init is None:\n",
    "        if std is None:\n",
    "            std = (2./shape[0])**0.5\n",
    "        init = tf.truncated_normal_initializer(stddev=std)\n",
    "    return tf.get_variable(name=name, shape=shape, \n",
    "                           dtype=tf.float32, initializer=init)"
   ]
  },
  {
   "cell_type": "code",
   "execution_count": 3,
   "metadata": {},
   "outputs": [],
   "source": [
    "def unpickle(file):\n",
    "    with open(file, 'rb') as fo:\n",
    "        dict = pickle.load(fo,  encoding='latin1')\n",
    "    return dict"
   ]
  },
  {
   "cell_type": "code",
   "execution_count": 4,
   "metadata": {},
   "outputs": [],
   "source": [
    "# Load data\n",
    "tra_file_1 = './cifar-10-batches-py/data_batch_1'\n",
    "tra_file_2 = './cifar-10-batches-py/data_batch_2'\n",
    "tra_file_3 = './cifar-10-batches-py/data_batch_3'\n",
    "tra_file_4 = './cifar-10-batches-py/data_batch_4'\n",
    "tra_file_5 = './cifar-10-batches-py/data_batch_5'\n",
    "\n",
    "test_file = './cifar-10-batches-py/test_batch'\n",
    "\n",
    "x = None \n",
    "y = None \n",
    "\n",
    "for i in range(5):\n",
    "    if i == 0: \n",
    "        tra_batch = unpickle(tra_file_1)\n",
    "    elif i == 1:\n",
    "        tra_batch = unpickle(tra_file_2)\n",
    "    elif i == 2:\n",
    "        tra_batch = unpickle(tra_file_3)\n",
    "    elif i == 3:\n",
    "        tra_batch = unpickle(tra_file_4)\n",
    "    elif i == 4:\n",
    "        tra_batch = unpickle(tra_file_5)\n",
    "        \n",
    "    _X = tra_batch[\"data\"]\n",
    "    _Y = tra_batch['labels']\n",
    "\n",
    "    _X = np.array(_X, dtype=float) / 255.0\n",
    "    _X = _X.reshape(10000, 3, 32, 32).transpose(0,2,3,1).astype(\"float\")\n",
    "    #_X = _X.reshape([-1, 3, 32, 32])\n",
    "    _X = _X.transpose([0, 2, 3, 1])\n",
    "    _X = _X.reshape(-1, 32*32*3)\n",
    "    _Y = np.array(_Y)\n",
    "\n",
    "    if x is None:\n",
    "        x = _X\n",
    "        y = _Y\n",
    "    else:\n",
    "        x = np.concatenate((x, _X), axis=0)\n",
    "        y = np.concatenate((y, _Y), axis=0)\n",
    "    \n",
    "    \n",
    "test_x = None \n",
    "test_y = None \n",
    "\n",
    "test_batch = unpickle(test_file)\n",
    "        \n",
    "_X = test_batch[\"data\"]\n",
    "_Y = test_batch['labels']\n",
    "\n",
    "_X = np.array(_X, dtype=float) / 255.0\n",
    "#_X = _X.reshape([-1, 3, 32, 32])\n",
    "_X = _X.reshape(10000, 3, 32, 32).transpose(0,2,3,1).astype(\"float\")\n",
    "_X = _X.transpose([0, 2, 3, 1])\n",
    "_X = _X.reshape(-1, 32*32*3)\n",
    "\n",
    "\n",
    "x_test = _X\n",
    "y_test = _Y"
   ]
  },
  {
   "cell_type": "code",
   "execution_count": 5,
   "metadata": {},
   "outputs": [
    {
     "ename": "SyntaxError",
     "evalue": "invalid syntax (<ipython-input-5-87125e3f5c70>, line 10)",
     "output_type": "error",
     "traceback": [
      "\u001b[0;36m  File \u001b[0;32m\"<ipython-input-5-87125e3f5c70>\"\u001b[0;36m, line \u001b[0;32m10\u001b[0m\n\u001b[0;31m    \"\"\" load single batch of cifar \"\"\"\u001b[0m\n\u001b[0m                                      \n^\u001b[0m\n\u001b[0;31mSyntaxError\u001b[0m\u001b[0;31m:\u001b[0m invalid syntax\n"
     ]
    }
   ],
   "source": [
    "\"\"\"def load_pickle(f):\n",
    "    version = platform.python_version_tuple()\n",
    "    if version[0] == '2':\n",
    "        return  pickle.load(f)\n",
    "    elif version[0] == '3':\n",
    "        return  pickle.load(f, encoding='latin1')\n",
    "    raise ValueError(\"invalid python version: {}\".format(version))\n",
    "\n",
    "def load_CIFAR_batch(filename):\n",
    "    \"\"\" load single batch of cifar \"\"\"\n",
    "    with open(filename, 'rb') as f:\n",
    "        datadict = load_pickle(f)\n",
    "        X = datadict['data']\n",
    "        Y = datadict['labels']\n",
    "        X = X.reshape(10000, 3, 32, 32).transpose(0,2,3,1).astype(\"float\")\n",
    "        Y = np.array(Y)\n",
    "        return X, Y\n",
    "\n",
    "def load_CIFAR10(ROOT):\n",
    "    \"\"\" load all of cifar \"\"\"\n",
    "    xs = []\n",
    "    ys = []\n",
    "    for b in range(1,6):\n",
    "        f = os.path.join(ROOT, 'data_batch_%d' % (b, ))\n",
    "        X, Y = load_CIFAR_batch(f)\n",
    "        xs.append(X)\n",
    "        ys.append(Y)\n",
    "    Xtr = np.concatenate(xs)\n",
    "    Ytr = np.concatenate(ys)\n",
    "    del X, Y\n",
    "    Xte, Yte = load_CIFAR_batch(os.path.join(ROOT, 'test_batch'))\n",
    "    return Xtr, Ytr, Xte, Yte\n",
    "\"\"\""
   ]
  },
  {
   "cell_type": "code",
   "execution_count": 8,
   "metadata": {},
   "outputs": [
    {
     "data": {
      "text/plain": [
       "(50000, 32, 32, 3)"
      ]
     },
     "execution_count": 8,
     "metadata": {},
     "output_type": "execute_result"
    }
   ],
   "source": [
    "len(x)\n",
    "x = x.reshape(50000, 3, 32, 32).transpose(0,2,3,1).astype(\"float\")\n",
    "x.shape"
   ]
  },
  {
   "cell_type": "code",
   "execution_count": 5,
   "metadata": {},
   "outputs": [],
   "source": [
    "_IMAGE_SIZE = 32\n",
    "_IMAGE_CHANNELS = 3\n",
    "_NUM_CLASSES = 10"
   ]
  },
  {
   "cell_type": "code",
   "execution_count": 18,
   "metadata": {},
   "outputs": [
    {
     "name": "stdout",
     "output_type": "stream",
     "text": [
      "WARNING:tensorflow:From <ipython-input-18-8900d280295a>:23: softmax_cross_entropy_with_logits (from tensorflow.python.ops.nn_ops) is deprecated and will be removed in a future version.\n",
      "Instructions for updating:\n",
      "\n",
      "Future major versions of TensorFlow will allow gradients to flow\n",
      "into the labels input on backprop by default.\n",
      "\n",
      "See tf.nn.softmax_cross_entropy_with_logits_v2.\n",
      "\n"
     ]
    }
   ],
   "source": [
    "g = tf.Graph()\n",
    "with g.as_default():\n",
    "    X = tf.placeholder(dtype=tf.float32,shape=[None, _IMAGE_SIZE * _IMAGE_SIZE * _IMAGE_CHANNELS])\n",
    "    Y = tf.placeholder(dtype=tf.float32, shape=[None, 10])\n",
    "    \n",
    "    # hidden layer\n",
    "    W1 = var('W1',[_IMAGE_SIZE * _IMAGE_SIZE * _IMAGE_CHANNELS, 1000])\n",
    "    b1 = var('b1',[1000],tf.constant_initializer(0.1))\n",
    "    out1 = tf.nn.relu(tf.matmul(X, W1) + b1)\n",
    "\n",
    "    #output layer\n",
    "    W2 = var('W2',[1000, 10])\n",
    "    b2 = var('b2',[10],tf.constant_initializer(0.1))\n",
    "    logits = tf.matmul(out1, W2) + b2\n",
    "    \n",
    "    #accuracy\n",
    "    pred = tf.argmax(logits, axis=1)\n",
    "    truth = tf.argmax(Y, axis=1)\n",
    "    match = tf.cast(tf.equal(pred, truth), tf.float32)\n",
    "    acc = tf.reduce_mean(match)\n",
    "    \n",
    "    loss = tf.reduce_mean(tf.nn.softmax_cross_entropy_with_logits(\n",
    "        logits=logits, labels=Y))\n",
    "    \n",
    "    step = tf.train.AdamOptimizer().minimize(loss)"
   ]
  },
  {
   "cell_type": "code",
   "execution_count": 27,
   "metadata": {},
   "outputs": [],
   "source": [
    "g2 = tf.Graph()\n",
    "with g2.as_default():\n",
    "    X = tf.placeholder(dtype=tf.float32,shape=[None, _IMAGE_SIZE * _IMAGE_SIZE * _IMAGE_CHANNELS])\n",
    "    Y = tf.placeholder(dtype=tf.float32, shape=[None, 10])\n",
    "    \n",
    "    # hidden layer\n",
    "    W1 = var('W1',[_IMAGE_SIZE * _IMAGE_SIZE * _IMAGE_CHANNELS, 1000])\n",
    "    b1 = var('b1',[1000],tf.constant_initializer(0.1))\n",
    "    out1 = tf.nn.relu(tf.matmul(X, W1) + b1)\n",
    "\n",
    "    #output layer\n",
    "    W2 = var('W2',[1000, 10])\n",
    "    b2 = var('b2',[10],tf.constant_initializer(0.1))\n",
    "    logits = tf.matmul(out1, W2) + b2\n",
    "    \n",
    "    #accuracy\n",
    "    pred = tf.argmax(logits, axis=1)\n",
    "    truth = tf.argmax(Y, axis=1)\n",
    "    match = tf.cast(tf.equal(pred, truth), tf.float32)\n",
    "    acc = tf.reduce_mean(match)\n",
    "    \n",
    "    # Declare Lasso loss function\n",
    "    # Lasso Loss = L2_Loss + heavyside_step,\n",
    "    # Where heavyside_step ~ 0 if A < constant, otherwise ~ 99\n",
    "    lasso_param = tf.constant(0.9)\n",
    "    heavyside_step = tf.truediv(1., tf.add(1., tf.exp(tf.multiply(-50., tf.subtract(X, lasso_param)))))\n",
    "    regularization_param = tf.multiply(heavyside_step, 99.)\n",
    "    loss = tf.add(tf.reduce_mean(tf.square(Y - logits)), regularization_param)\n",
    "    \n",
    "    step = tf.train.AdamOptimizer().minimize(loss)"
   ]
  },
  {
   "cell_type": "code",
   "execution_count": 6,
   "metadata": {},
   "outputs": [],
   "source": [
    "g4 = tf.Graph()\n",
    "with g4.as_default():\n",
    "    Wconv1 = tf.get_variable(\"Wconv1\", shape=[5, 5, 3, 32])\n",
    "    bconv1 = tf.get_variable(\"bconv1\", shape=[32])\n",
    "    Wconv2 = tf.get_variable(\"Wconv2\", shape=[5, 5, 32, 64])\n",
    "    bconv2 = tf.get_variable(\"bconv2\", shape=[64])\n",
    "    # affine layer with 1024\n",
    "    W1 = tf.get_variable(\"W1\", shape=[3136, 1024])\n",
    "    b1 = tf.get_variable(\"b1\", shape=[1024])\n",
    "    #affine layer with 10\n",
    "    W2 = tf.get_variable(\"W2\", shape=[1024, 10])\n",
    "    b2 = tf.get_variable(\"b2\", shape=[10])    \n",
    "    X = tf.placeholder(dtype=tf.float32,shape=[None,32, 32, 3])\n",
    "    Y = tf.placeholder(dtype=tf.float32, shape=[None, 10])\n",
    "    conv1 = tf.nn.conv2d(X, Wconv1, strides=[1, 1, 1, 1], padding='SAME') + bconv1\n",
    "    \n",
    "    # ReLU Activation Layer\n",
    "    relu1 = tf.nn.relu(conv1)\n",
    "    \n",
    "    # Conv\n",
    "    conv2 = tf.nn.conv2d(relu1, Wconv2, strides=[1, 2, 2, 1], padding='VALID') + bconv2\n",
    "    \n",
    "    # ReLU Activation Layer\n",
    "    relu2 = tf.nn.relu(conv2)\n",
    "    \n",
    "    # 2x2 Max Pooling layer with a stride of 2\n",
    "    maxpool = tf.layers.max_pooling2d(relu2, pool_size=(2,2), strides=2)\n",
    "    \n",
    "    maxpool_flat = tf.reshape(maxpool,[-1,3136])\n",
    "    # Spatial Batch Normalization Layer (trainable parameters, with scale and centering)\n",
    "    bn1 = tf.layers.batch_normalization(inputs=maxpool_flat, center=True, scale=True, training=True)\n",
    "    # Affine layer with 1024 output units\n",
    "    affine1 = tf.matmul(bn1, W1) + b1\n",
    "    \n",
    "    # vanilla batch normalization\n",
    "    affine1_flat = tf.reshape(affine1,[-1,1024])\n",
    "    bn2 = tf.layers.batch_normalization(inputs=affine1, center=True, scale=True, training=True)\n",
    "    \n",
    "    # ReLU Activation Layer\n",
    "    relu2 = tf.nn.relu(bn2)\n",
    "\n",
    "    # dropout\n",
    "    drop1 = tf.layers.dropout(inputs=relu2, training=True)\n",
    "    # Affine layer from 1024 input units to 10 outputs\n",
    "    affine2 = tf.matmul(drop1, W2) + b2\n",
    "    # vanilla batch normalization\n",
    "    affine2_flat = tf.reshape(affine2,[-1,3136])\n",
    "    pred = tf.layers.batch_normalization(inputs=affine2, center=True, scale=True, training=True)\n",
    "    prediction = tf.nn.softmax(pred)\n",
    "    pred2 = tf.argmax(prediction, axis=1)\n",
    "    truth = tf.argmax(Y, axis=1)\n",
    "    match = tf.cast(tf.equal(pred2, truth), tf.float32)\n",
    "    \n",
    "    acc = tf.reduce_mean(match)\n",
    "\n",
    "    lasso_param = tf.constant(0.9)\n",
    "    heavyside_step = tf.truediv(1., tf.add(1., tf.exp(tf.multiply(-50., tf.subtract(X, lasso_param)))))\n",
    "    regularization_param = tf.multiply(heavyside_step, 99.)\n",
    "    loss = tf.add(tf.reduce_mean(tf.square(Y - pred)), regularization_param)\n",
    "    \n",
    "    step = tf.train.AdamOptimizer().minimize(loss)"
   ]
  },
  {
   "cell_type": "code",
   "execution_count": 31,
   "metadata": {},
   "outputs": [
    {
     "ename": "NameError",
     "evalue": "name 'mode' is not defined",
     "output_type": "error",
     "traceback": [
      "\u001b[0;31m---------------------------------------------------------------------------\u001b[0m",
      "\u001b[0;31mNameError\u001b[0m                                 Traceback (most recent call last)",
      "\u001b[0;32m<ipython-input-31-d7d9b97f72a7>\u001b[0m in \u001b[0;36m<module>\u001b[0;34m()\u001b[0m\n\u001b[1;32m     32\u001b[0m     \u001b[0mdense\u001b[0m \u001b[0;34m=\u001b[0m \u001b[0mtf\u001b[0m\u001b[0;34m.\u001b[0m\u001b[0mlayers\u001b[0m\u001b[0;34m.\u001b[0m\u001b[0mdense\u001b[0m\u001b[0;34m(\u001b[0m\u001b[0minputs\u001b[0m\u001b[0;34m=\u001b[0m\u001b[0mpool2_flat\u001b[0m\u001b[0;34m,\u001b[0m \u001b[0munits\u001b[0m\u001b[0;34m=\u001b[0m\u001b[0;36m1024\u001b[0m\u001b[0;34m,\u001b[0m \u001b[0mactivation\u001b[0m\u001b[0;34m=\u001b[0m\u001b[0mtf\u001b[0m\u001b[0;34m.\u001b[0m\u001b[0mnn\u001b[0m\u001b[0;34m.\u001b[0m\u001b[0mrelu\u001b[0m\u001b[0;34m)\u001b[0m\u001b[0;34m\u001b[0m\u001b[0m\n\u001b[1;32m     33\u001b[0m     dropout = tf.layers.dropout(\n\u001b[0;32m---> 34\u001b[0;31m      inputs=dense, rate=0.4, training=mode == tf.estimator.ModeKeys.TRAIN)\n\u001b[0m\u001b[1;32m     35\u001b[0m \u001b[0;34m\u001b[0m\u001b[0m\n\u001b[1;32m     36\u001b[0m     \u001b[0;31m# Logits Layer\u001b[0m\u001b[0;34m\u001b[0m\u001b[0;34m\u001b[0m\u001b[0m\n",
      "\u001b[0;31mNameError\u001b[0m: name 'mode' is not defined"
     ]
    }
   ],
   "source": [
    "g3 = tf.Graph()\n",
    "with g3.as_default():\n",
    "    X = tf.placeholder(dtype=tf.float32,shape=[None, _IMAGE_SIZE * _IMAGE_SIZE * _IMAGE_CHANNELS])\n",
    "    Y = tf.placeholder(dtype=tf.float32, shape=[None, 10])\n",
    "    \n",
    "    \n",
    "    # Logits Layer\n",
    "    logits = tf.layers.dense(inputs=dropout, units=10)\n",
    "    \n",
    "    #accuracy\n",
    "    pred = tf.argmax(logits, axis=1)\n",
    "    truth = tf.argmax(Y, axis=1)\n",
    "    match = tf.cast(tf.equal(pred, truth), tf.float32)\n",
    "    acc = tf.reduce_mean(match)\n",
    "    \n",
    "    # Declare Lasso loss function\n",
    "    # Lasso Loss = L2_Loss + heavyside_step,\n",
    "    # Where heavyside_step ~ 0 if A < constant, otherwise ~ 99\n",
    "    lasso_param = tf.constant(0.9)\n",
    "    heavyside_step = tf.truediv(1., tf.add(1., tf.exp(tf.multiply(-50., tf.subtract(X, lasso_param)))))\n",
    "    regularization_param = tf.multiply(heavyside_step, 99.)\n",
    "    loss = tf.add(tf.reduce_mean(tf.square(Y - logits)), regularization_param)\n",
    "    \n",
    "    step = tf.train.AdamOptimizer().minimize(loss)"
   ]
  },
  {
   "cell_type": "code",
   "execution_count": null,
   "metadata": {},
   "outputs": [],
   "source": [
    "# Select appropriate loss function based on regression type\n",
    "\n",
    "if regression_type == 'LASSO':\n",
    "    # Declare Lasso loss function\n",
    "    # Lasso Loss = L2_Loss + heavyside_step,\n",
    "    # Where heavyside_step ~ 0 if A < constant, otherwise ~ 99\n",
    "    lasso_param = tf.constant(0.9)\n",
    "    heavyside_step = tf.truediv(1., tf.add(1., tf.exp(tf.multiply(-50., tf.subtract(A, lasso_param)))))\n",
    "    regularization_param = tf.multiply(heavyside_step, 99.)\n",
    "    loss = tf.add(tf.reduce_mean(tf.square(y_target - model_output)), regularization_param)\n",
    "\n",
    "elif regression_type == 'Ridge':\n",
    "    # Declare the Ridge loss function\n",
    "    # Ridge loss = L2_loss + L2 norm of slope\n",
    "    ridge_param = tf.constant(1.)\n",
    "    ridge_loss = tf.reduce_mean(tf.square(A))\n",
    "    loss = tf.expand_dims(tf.add(tf.reduce_mean(tf.square(y_target - model_output)), tf.multiply(ridge_param, ridge_loss)), 0)\n",
    "    \n",
    "else:\n",
    "    print('Invalid regression_type parameter value',file=sys.stderr)\n"
   ]
  },
  {
   "cell_type": "code",
   "execution_count": 7,
   "metadata": {},
   "outputs": [],
   "source": [
    "def getBatch(x, y, batch_size = 10000, n=0):\n",
    "    if n == 0:\n",
    "        x = x[:batch_size]\n",
    "    else:\n",
    "        x = x[batch_size * n: batch_size * (n + 1) ]\n",
    "    x = x.reshape(batch_size, 3, 32, 32).transpose(0,2,3,1).astype(\"float\")\n",
    "    lst_labels = list()\n",
    "    lst_temp = list()\n",
    "    for i in range(batch_size):\n",
    "        lst_temp = list()\n",
    "        for j in range(10):\n",
    "            if y[i] == j:\n",
    "                lst_temp.append(1)\n",
    "            else:\n",
    "                lst_temp.append(0)\n",
    "        lst_labels.append(lst_temp)\n",
    "    return x, np.asarray(lst_labels)\n"
   ]
  },
  {
   "cell_type": "code",
   "execution_count": 9,
   "metadata": {},
   "outputs": [],
   "source": [
    "x_tra, y_tra = getBatch(x, y, batch_size=1000)"
   ]
  },
  {
   "cell_type": "code",
   "execution_count": 10,
   "metadata": {},
   "outputs": [
    {
     "ename": "NameError",
     "evalue": "name 'lst_labels' is not defined",
     "output_type": "error",
     "traceback": [
      "\u001b[0;31m---------------------------------------------------------------------------\u001b[0m",
      "\u001b[0;31mNameError\u001b[0m                                 Traceback (most recent call last)",
      "\u001b[0;32m<ipython-input-10-b4f5fa3961df>\u001b[0m in \u001b[0;36m<module>\u001b[0;34m()\u001b[0m\n\u001b[0;32m----> 1\u001b[0;31m \u001b[0mlabels\u001b[0m \u001b[0;34m=\u001b[0m \u001b[0mnp\u001b[0m\u001b[0;34m.\u001b[0m\u001b[0masarray\u001b[0m\u001b[0;34m(\u001b[0m\u001b[0mlst_labels\u001b[0m\u001b[0;34m)\u001b[0m\u001b[0;34m\u001b[0m\u001b[0m\n\u001b[0m",
      "\u001b[0;31mNameError\u001b[0m: name 'lst_labels' is not defined"
     ]
    }
   ],
   "source": [
    "labels = np.asarray(lst_labels)"
   ]
  },
  {
   "cell_type": "code",
   "execution_count": 11,
   "metadata": {},
   "outputs": [],
   "source": [
    "labels = y_tra"
   ]
  },
  {
   "cell_type": "code",
   "execution_count": 12,
   "metadata": {},
   "outputs": [],
   "source": [
    "sess = tf.InteractiveSession(graph=g4)\n",
    "tf.global_variables_initializer().run()"
   ]
  },
  {
   "cell_type": "code",
   "execution_count": 13,
   "metadata": {},
   "outputs": [
    {
     "name": "stdout",
     "output_type": "stream",
     "text": [
      "66) acc: 0.9340\r"
     ]
    },
    {
     "ename": "KeyboardInterrupt",
     "evalue": "",
     "output_type": "error",
     "traceback": [
      "\u001b[0;31m---------------------------------------------------------------------------\u001b[0m",
      "\u001b[0;31mKeyboardInterrupt\u001b[0m                         Traceback (most recent call last)",
      "\u001b[0;32m<ipython-input-13-3263590a011c>\u001b[0m in \u001b[0;36m<module>\u001b[0;34m()\u001b[0m\n\u001b[1;32m      3\u001b[0m     \u001b[0;32mfor\u001b[0m \u001b[0mj\u001b[0m \u001b[0;32min\u001b[0m \u001b[0mrange\u001b[0m\u001b[0;34m(\u001b[0m\u001b[0;36m50\u001b[0m\u001b[0;34m)\u001b[0m\u001b[0;34m:\u001b[0m\u001b[0;34m\u001b[0m\u001b[0m\n\u001b[1;32m      4\u001b[0m         \u001b[0mx_tra\u001b[0m\u001b[0;34m,\u001b[0m \u001b[0my_tra\u001b[0m \u001b[0;34m=\u001b[0m \u001b[0mgetBatch\u001b[0m\u001b[0;34m(\u001b[0m\u001b[0mx\u001b[0m\u001b[0;34m,\u001b[0m\u001b[0my\u001b[0m\u001b[0;34m,\u001b[0m \u001b[0mbatch_size\u001b[0m\u001b[0;34m=\u001b[0m\u001b[0;36m1000\u001b[0m\u001b[0;34m,\u001b[0m \u001b[0mn\u001b[0m\u001b[0;34m=\u001b[0m\u001b[0mj\u001b[0m\u001b[0;34m)\u001b[0m\u001b[0;34m\u001b[0m\u001b[0m\n\u001b[0;32m----> 5\u001b[0;31m         \u001b[0m_\u001b[0m\u001b[0;34m,\u001b[0m \u001b[0macc_\u001b[0m \u001b[0;34m=\u001b[0m \u001b[0msess\u001b[0m\u001b[0;34m.\u001b[0m\u001b[0mrun\u001b[0m\u001b[0;34m(\u001b[0m\u001b[0;34m[\u001b[0m\u001b[0mstep\u001b[0m\u001b[0;34m,\u001b[0m \u001b[0macc\u001b[0m\u001b[0;34m]\u001b[0m\u001b[0;34m,\u001b[0m \u001b[0mfeed_dict\u001b[0m\u001b[0;34m=\u001b[0m\u001b[0;34m{\u001b[0m\u001b[0mX\u001b[0m\u001b[0;34m:\u001b[0m\u001b[0mx_tra\u001b[0m\u001b[0;34m,\u001b[0m \u001b[0mY\u001b[0m\u001b[0;34m:\u001b[0m\u001b[0mlabels\u001b[0m\u001b[0;34m}\u001b[0m\u001b[0;34m)\u001b[0m\u001b[0;34m\u001b[0m\u001b[0m\n\u001b[0m\u001b[1;32m      6\u001b[0m         \u001b[0mprint\u001b[0m\u001b[0;34m(\u001b[0m\u001b[0;34m'%d) acc: %2.4f'\u001b[0m \u001b[0;34m%\u001b[0m \u001b[0;34m(\u001b[0m\u001b[0mI\u001b[0m\u001b[0;34m,\u001b[0m\u001b[0macc_\u001b[0m\u001b[0;34m)\u001b[0m\u001b[0;34m,\u001b[0m \u001b[0mend\u001b[0m\u001b[0;34m=\u001b[0m\u001b[0;34m'\\r'\u001b[0m\u001b[0;34m)\u001b[0m\u001b[0;34m\u001b[0m\u001b[0m\n\u001b[1;32m      7\u001b[0m \u001b[0;34m\u001b[0m\u001b[0m\n",
      "\u001b[0;32m~/anaconda3/lib/python3.6/site-packages/tensorflow/python/client/session.py\u001b[0m in \u001b[0;36mrun\u001b[0;34m(self, fetches, feed_dict, options, run_metadata)\u001b[0m\n\u001b[1;32m    893\u001b[0m     \u001b[0;32mtry\u001b[0m\u001b[0;34m:\u001b[0m\u001b[0;34m\u001b[0m\u001b[0m\n\u001b[1;32m    894\u001b[0m       result = self._run(None, fetches, feed_dict, options_ptr,\n\u001b[0;32m--> 895\u001b[0;31m                          run_metadata_ptr)\n\u001b[0m\u001b[1;32m    896\u001b[0m       \u001b[0;32mif\u001b[0m \u001b[0mrun_metadata\u001b[0m\u001b[0;34m:\u001b[0m\u001b[0;34m\u001b[0m\u001b[0m\n\u001b[1;32m    897\u001b[0m         \u001b[0mproto_data\u001b[0m \u001b[0;34m=\u001b[0m \u001b[0mtf_session\u001b[0m\u001b[0;34m.\u001b[0m\u001b[0mTF_GetBuffer\u001b[0m\u001b[0;34m(\u001b[0m\u001b[0mrun_metadata_ptr\u001b[0m\u001b[0;34m)\u001b[0m\u001b[0;34m\u001b[0m\u001b[0m\n",
      "\u001b[0;32m~/anaconda3/lib/python3.6/site-packages/tensorflow/python/client/session.py\u001b[0m in \u001b[0;36m_run\u001b[0;34m(self, handle, fetches, feed_dict, options, run_metadata)\u001b[0m\n\u001b[1;32m   1126\u001b[0m     \u001b[0;32mif\u001b[0m \u001b[0mfinal_fetches\u001b[0m \u001b[0;32mor\u001b[0m \u001b[0mfinal_targets\u001b[0m \u001b[0;32mor\u001b[0m \u001b[0;34m(\u001b[0m\u001b[0mhandle\u001b[0m \u001b[0;32mand\u001b[0m \u001b[0mfeed_dict_tensor\u001b[0m\u001b[0;34m)\u001b[0m\u001b[0;34m:\u001b[0m\u001b[0;34m\u001b[0m\u001b[0m\n\u001b[1;32m   1127\u001b[0m       results = self._do_run(handle, final_targets, final_fetches,\n\u001b[0;32m-> 1128\u001b[0;31m                              feed_dict_tensor, options, run_metadata)\n\u001b[0m\u001b[1;32m   1129\u001b[0m     \u001b[0;32melse\u001b[0m\u001b[0;34m:\u001b[0m\u001b[0;34m\u001b[0m\u001b[0m\n\u001b[1;32m   1130\u001b[0m       \u001b[0mresults\u001b[0m \u001b[0;34m=\u001b[0m \u001b[0;34m[\u001b[0m\u001b[0;34m]\u001b[0m\u001b[0;34m\u001b[0m\u001b[0m\n",
      "\u001b[0;32m~/anaconda3/lib/python3.6/site-packages/tensorflow/python/client/session.py\u001b[0m in \u001b[0;36m_do_run\u001b[0;34m(self, handle, target_list, fetch_list, feed_dict, options, run_metadata)\u001b[0m\n\u001b[1;32m   1342\u001b[0m     \u001b[0;32mif\u001b[0m \u001b[0mhandle\u001b[0m \u001b[0;32mis\u001b[0m \u001b[0;32mNone\u001b[0m\u001b[0;34m:\u001b[0m\u001b[0;34m\u001b[0m\u001b[0m\n\u001b[1;32m   1343\u001b[0m       return self._do_call(_run_fn, self._session, feeds, fetches, targets,\n\u001b[0;32m-> 1344\u001b[0;31m                            options, run_metadata)\n\u001b[0m\u001b[1;32m   1345\u001b[0m     \u001b[0;32melse\u001b[0m\u001b[0;34m:\u001b[0m\u001b[0;34m\u001b[0m\u001b[0m\n\u001b[1;32m   1346\u001b[0m       \u001b[0;32mreturn\u001b[0m \u001b[0mself\u001b[0m\u001b[0;34m.\u001b[0m\u001b[0m_do_call\u001b[0m\u001b[0;34m(\u001b[0m\u001b[0m_prun_fn\u001b[0m\u001b[0;34m,\u001b[0m \u001b[0mself\u001b[0m\u001b[0;34m.\u001b[0m\u001b[0m_session\u001b[0m\u001b[0;34m,\u001b[0m \u001b[0mhandle\u001b[0m\u001b[0;34m,\u001b[0m \u001b[0mfeeds\u001b[0m\u001b[0;34m,\u001b[0m \u001b[0mfetches\u001b[0m\u001b[0;34m)\u001b[0m\u001b[0;34m\u001b[0m\u001b[0m\n",
      "\u001b[0;32m~/anaconda3/lib/python3.6/site-packages/tensorflow/python/client/session.py\u001b[0m in \u001b[0;36m_do_call\u001b[0;34m(self, fn, *args)\u001b[0m\n\u001b[1;32m   1348\u001b[0m   \u001b[0;32mdef\u001b[0m \u001b[0m_do_call\u001b[0m\u001b[0;34m(\u001b[0m\u001b[0mself\u001b[0m\u001b[0;34m,\u001b[0m \u001b[0mfn\u001b[0m\u001b[0;34m,\u001b[0m \u001b[0;34m*\u001b[0m\u001b[0margs\u001b[0m\u001b[0;34m)\u001b[0m\u001b[0;34m:\u001b[0m\u001b[0;34m\u001b[0m\u001b[0m\n\u001b[1;32m   1349\u001b[0m     \u001b[0;32mtry\u001b[0m\u001b[0;34m:\u001b[0m\u001b[0;34m\u001b[0m\u001b[0m\n\u001b[0;32m-> 1350\u001b[0;31m       \u001b[0;32mreturn\u001b[0m \u001b[0mfn\u001b[0m\u001b[0;34m(\u001b[0m\u001b[0;34m*\u001b[0m\u001b[0margs\u001b[0m\u001b[0;34m)\u001b[0m\u001b[0;34m\u001b[0m\u001b[0m\n\u001b[0m\u001b[1;32m   1351\u001b[0m     \u001b[0;32mexcept\u001b[0m \u001b[0merrors\u001b[0m\u001b[0;34m.\u001b[0m\u001b[0mOpError\u001b[0m \u001b[0;32mas\u001b[0m \u001b[0me\u001b[0m\u001b[0;34m:\u001b[0m\u001b[0;34m\u001b[0m\u001b[0m\n\u001b[1;32m   1352\u001b[0m       \u001b[0mmessage\u001b[0m \u001b[0;34m=\u001b[0m \u001b[0mcompat\u001b[0m\u001b[0;34m.\u001b[0m\u001b[0mas_text\u001b[0m\u001b[0;34m(\u001b[0m\u001b[0me\u001b[0m\u001b[0;34m.\u001b[0m\u001b[0mmessage\u001b[0m\u001b[0;34m)\u001b[0m\u001b[0;34m\u001b[0m\u001b[0m\n",
      "\u001b[0;32m~/anaconda3/lib/python3.6/site-packages/tensorflow/python/client/session.py\u001b[0m in \u001b[0;36m_run_fn\u001b[0;34m(session, feed_dict, fetch_list, target_list, options, run_metadata)\u001b[0m\n\u001b[1;32m   1327\u001b[0m           return tf_session.TF_Run(session, options,\n\u001b[1;32m   1328\u001b[0m                                    \u001b[0mfeed_dict\u001b[0m\u001b[0;34m,\u001b[0m \u001b[0mfetch_list\u001b[0m\u001b[0;34m,\u001b[0m \u001b[0mtarget_list\u001b[0m\u001b[0;34m,\u001b[0m\u001b[0;34m\u001b[0m\u001b[0m\n\u001b[0;32m-> 1329\u001b[0;31m                                    status, run_metadata)\n\u001b[0m\u001b[1;32m   1330\u001b[0m \u001b[0;34m\u001b[0m\u001b[0m\n\u001b[1;32m   1331\u001b[0m     \u001b[0;32mdef\u001b[0m \u001b[0m_prun_fn\u001b[0m\u001b[0;34m(\u001b[0m\u001b[0msession\u001b[0m\u001b[0;34m,\u001b[0m \u001b[0mhandle\u001b[0m\u001b[0;34m,\u001b[0m \u001b[0mfeed_dict\u001b[0m\u001b[0;34m,\u001b[0m \u001b[0mfetch_list\u001b[0m\u001b[0;34m)\u001b[0m\u001b[0;34m:\u001b[0m\u001b[0;34m\u001b[0m\u001b[0m\n",
      "\u001b[0;31mKeyboardInterrupt\u001b[0m: "
     ]
    }
   ],
   "source": [
    "for I in range(1000):\n",
    "    # Train for batches \n",
    "    for j in range(50):\n",
    "        x_tra, y_tra = getBatch(x,y, batch_size=1000, n=j)\n",
    "        _, acc_ = sess.run([step, acc], feed_dict={X:x_tra, Y:labels})\n",
    "        print('%d) acc: %2.4f' % (I,acc_), end='\\r')\n",
    "    \n",
    "    "
   ]
  },
  {
   "cell_type": "code",
   "execution_count": 28,
   "metadata": {},
   "outputs": [],
   "source": [
    "_, t_acc_ = sess.run( [step, acc], feed_dict={X:x_test2, Y:y_test2})"
   ]
  },
  {
   "cell_type": "code",
   "execution_count": 30,
   "metadata": {},
   "outputs": [],
   "source": [
    "_, acc_ = sess.run([step, acc], feed_dict={X:x_tra, Y:labels})\n"
   ]
  },
  {
   "cell_type": "code",
   "execution_count": 32,
   "metadata": {},
   "outputs": [
    {
     "name": "stdout",
     "output_type": "stream",
     "text": [
      "99) acc: 0.1002\r"
     ]
    }
   ],
   "source": [
    "print('%d) acc: %2.4f' % (I,t_acc_), end='\\r')\n",
    "#print('%d) acc: %2.4f' % (I,acc_), end='\\r')"
   ]
  },
  {
   "cell_type": "code",
   "execution_count": 9,
   "metadata": {},
   "outputs": [
    {
     "name": "stdout",
     "output_type": "stream",
     "text": [
      "(?, 32, 32, 32)\n",
      "Tensor(\"Relu:0\", shape=(?, 32, 32, 32), dtype=float32)\n",
      "(?, 14, 14, 64)\n",
      "Tensor(\"Relu_1:0\", shape=(?, 14, 14, 64), dtype=float32)\n",
      "(?, 7, 7, 64)\n",
      "(?, 1024)\n",
      "(?, 1024)\n",
      "(?, 1024)\n",
      "(?, 10)\n"
     ]
    },
    {
     "data": {
      "text/plain": [
       "<tf.Tensor 'batch_normalization_3/cond/Merge:0' shape=(?, 10) dtype=float32>"
      ]
     },
     "execution_count": 9,
     "metadata": {},
     "output_type": "execute_result"
    }
   ],
   "source": [
    "tf.reset_default_graph()\n",
    "X = tf.placeholder(tf.float32, [None, 32, 32, 3])\n",
    "y = tf.placeholder(tf.int64, [None])\n",
    "is_training = tf.placeholder(tf.bool)\n",
    "\n",
    "net = CifarNet()\n",
    "net.forward(X,y,is_training)"
   ]
  },
  {
   "cell_type": "code",
   "execution_count": 10,
   "metadata": {},
   "outputs": [],
   "source": [
    "# Annealing the learning rate\n",
    "global_step = tf.Variable(0, trainable=False)\n",
    "starter_learning_rate = 1e-3\n",
    "end_learning_rate = 5e-3\n",
    "decay_steps = 10000\n",
    "\n",
    "learning_rate = tf.train.polynomial_decay(starter_learning_rate, global_step,\n",
    "                                          decay_steps, end_learning_rate,\n",
    "                                          power=0.5)\n",
    "\n",
    "exp_learning_rate = tf.train.exponential_decay(starter_learning_rate, global_step,\n",
    "                                               100000, 0.96, staircase=True)\n",
    "\n",
    "\n",
    "# Feel free to play with this cell\n",
    "mean_loss = None\n",
    "optimizer = None\n",
    "\n",
    "# define our loss\n",
    "cross_entr_loss = tf.nn.softmax_cross_entropy_with_logits(labels=tf.one_hot(y,10), logits=net.predict)\n",
    "mean_loss = tf.reduce_mean(cross_entr_loss)\n",
    "\n",
    "# define our optimizer\n",
    "optimizer = tf.train.AdamOptimizer(exp_learning_rate)\n",
    "\n",
    "\n",
    "# batch normalization in tensorflow requires this extra dependency\n",
    "extra_update_ops = tf.get_collection(tf.GraphKeys.UPDATE_OPS)\n",
    "with tf.control_dependencies(extra_update_ops):\n",
    "    train_step = optimizer.minimize(mean_loss, global_step=global_step)"
   ]
  },
  {
   "cell_type": "code",
   "execution_count": 11,
   "metadata": {},
   "outputs": [
    {
     "name": "stdout",
     "output_type": "stream",
     "text": [
      "no gpu found, please use Google Cloud if you want GPU acceleration\n"
     ]
    },
    {
     "ename": "InvalidArgumentError",
     "evalue": "Node 'ArgMax': Unknown input node 'batch_normalization_3/cond/Merge'",
     "output_type": "error",
     "traceback": [
      "\u001b[0;31m---------------------------------------------------------------------------\u001b[0m",
      "\u001b[0;31mInvalidArgumentError\u001b[0m                      Traceback (most recent call last)",
      "\u001b[0;32m<ipython-input-11-5a5433d4d6c4>\u001b[0m in \u001b[0;36m<module>\u001b[0;34m()\u001b[0m\n\u001b[1;32m     11\u001b[0m \u001b[0;32mexcept\u001b[0m \u001b[0mtf\u001b[0m\u001b[0;34m.\u001b[0m\u001b[0merrors\u001b[0m\u001b[0;34m.\u001b[0m\u001b[0mInvalidArgumentError\u001b[0m\u001b[0;34m:\u001b[0m\u001b[0;34m\u001b[0m\u001b[0m\n\u001b[1;32m     12\u001b[0m     \u001b[0;32mprint\u001b[0m\u001b[0;34m(\u001b[0m\u001b[0;34m\"no gpu found, please use Google Cloud if you want GPU acceleration\"\u001b[0m\u001b[0;34m)\u001b[0m\u001b[0;34m\u001b[0m\u001b[0m\n\u001b[0;32m---> 13\u001b[0;31m \u001b[0mnet\u001b[0m\u001b[0;34m.\u001b[0m\u001b[0mrun\u001b[0m\u001b[0;34m(\u001b[0m\u001b[0msess\u001b[0m\u001b[0;34m,\u001b[0m \u001b[0mmean_loss\u001b[0m\u001b[0;34m,\u001b[0m \u001b[0mX_train\u001b[0m\u001b[0;34m,\u001b[0m \u001b[0my_train\u001b[0m\u001b[0;34m,\u001b[0m \u001b[0;36m10\u001b[0m\u001b[0;34m,\u001b[0m \u001b[0;36m64\u001b[0m\u001b[0;34m,\u001b[0m \u001b[0;36m200\u001b[0m\u001b[0;34m,\u001b[0m \u001b[0mtrain_step\u001b[0m\u001b[0;34m,\u001b[0m \u001b[0mTrue\u001b[0m\u001b[0;34m)\u001b[0m\u001b[0;34m\u001b[0m\u001b[0m\n\u001b[0m\u001b[1;32m     14\u001b[0m \u001b[0;34m\u001b[0m\u001b[0m\n",
      "\u001b[0;32m<ipython-input-8-f68c898fa2b3>\u001b[0m in \u001b[0;36mrun\u001b[0;34m(self, session, loss_val, Xd, yd, epochs, batch_size, print_every, training, plot_losses, isSoftMax)\u001b[0m\n\u001b[1;32m    121\u001b[0m                 \u001b[0;31m# have tensorflow compute loss and correct predictions\u001b[0m\u001b[0;34m\u001b[0m\u001b[0;34m\u001b[0m\u001b[0m\n\u001b[1;32m    122\u001b[0m                 \u001b[0;31m# and (if given) perform a training step\u001b[0m\u001b[0;34m\u001b[0m\u001b[0;34m\u001b[0m\u001b[0m\n\u001b[0;32m--> 123\u001b[0;31m                 \u001b[0mloss\u001b[0m\u001b[0;34m,\u001b[0m \u001b[0mcorr\u001b[0m\u001b[0;34m,\u001b[0m \u001b[0m_\u001b[0m \u001b[0;34m=\u001b[0m \u001b[0msession\u001b[0m\u001b[0;34m.\u001b[0m\u001b[0mrun\u001b[0m\u001b[0;34m(\u001b[0m\u001b[0mvariables\u001b[0m\u001b[0;34m,\u001b[0m\u001b[0mfeed_dict\u001b[0m\u001b[0;34m=\u001b[0m\u001b[0mfeed_dict\u001b[0m\u001b[0;34m)\u001b[0m\u001b[0;34m\u001b[0m\u001b[0m\n\u001b[0m\u001b[1;32m    124\u001b[0m \u001b[0;34m\u001b[0m\u001b[0m\n\u001b[1;32m    125\u001b[0m                 \u001b[0;31m# aggregate performance stats\u001b[0m\u001b[0;34m\u001b[0m\u001b[0;34m\u001b[0m\u001b[0m\n",
      "\u001b[0;32m/home/semih/anaconda2/lib/python2.7/site-packages/tensorflow/python/client/session.pyc\u001b[0m in \u001b[0;36mrun\u001b[0;34m(self, fetches, feed_dict, options, run_metadata)\u001b[0m\n\u001b[1;32m    776\u001b[0m     \u001b[0;32mtry\u001b[0m\u001b[0;34m:\u001b[0m\u001b[0;34m\u001b[0m\u001b[0m\n\u001b[1;32m    777\u001b[0m       result = self._run(None, fetches, feed_dict, options_ptr,\n\u001b[0;32m--> 778\u001b[0;31m                          run_metadata_ptr)\n\u001b[0m\u001b[1;32m    779\u001b[0m       \u001b[0;32mif\u001b[0m \u001b[0mrun_metadata\u001b[0m\u001b[0;34m:\u001b[0m\u001b[0;34m\u001b[0m\u001b[0m\n\u001b[1;32m    780\u001b[0m         \u001b[0mproto_data\u001b[0m \u001b[0;34m=\u001b[0m \u001b[0mtf_session\u001b[0m\u001b[0;34m.\u001b[0m\u001b[0mTF_GetBuffer\u001b[0m\u001b[0;34m(\u001b[0m\u001b[0mrun_metadata_ptr\u001b[0m\u001b[0;34m)\u001b[0m\u001b[0;34m\u001b[0m\u001b[0m\n",
      "\u001b[0;32m/home/semih/anaconda2/lib/python2.7/site-packages/tensorflow/python/client/session.pyc\u001b[0m in \u001b[0;36m_run\u001b[0;34m(self, handle, fetches, feed_dict, options, run_metadata)\u001b[0m\n\u001b[1;32m    980\u001b[0m     \u001b[0;32mif\u001b[0m \u001b[0mfinal_fetches\u001b[0m \u001b[0;32mor\u001b[0m \u001b[0mfinal_targets\u001b[0m\u001b[0;34m:\u001b[0m\u001b[0;34m\u001b[0m\u001b[0m\n\u001b[1;32m    981\u001b[0m       results = self._do_run(handle, final_targets, final_fetches,\n\u001b[0;32m--> 982\u001b[0;31m                              feed_dict_string, options, run_metadata)\n\u001b[0m\u001b[1;32m    983\u001b[0m     \u001b[0;32melse\u001b[0m\u001b[0;34m:\u001b[0m\u001b[0;34m\u001b[0m\u001b[0m\n\u001b[1;32m    984\u001b[0m       \u001b[0mresults\u001b[0m \u001b[0;34m=\u001b[0m \u001b[0;34m[\u001b[0m\u001b[0;34m]\u001b[0m\u001b[0;34m\u001b[0m\u001b[0m\n",
      "\u001b[0;32m/home/semih/anaconda2/lib/python2.7/site-packages/tensorflow/python/client/session.pyc\u001b[0m in \u001b[0;36m_do_run\u001b[0;34m(self, handle, target_list, fetch_list, feed_dict, options, run_metadata)\u001b[0m\n\u001b[1;32m   1030\u001b[0m     \u001b[0;32mif\u001b[0m \u001b[0mhandle\u001b[0m \u001b[0;32mis\u001b[0m \u001b[0mNone\u001b[0m\u001b[0;34m:\u001b[0m\u001b[0;34m\u001b[0m\u001b[0m\n\u001b[1;32m   1031\u001b[0m       return self._do_call(_run_fn, self._session, feed_dict, fetch_list,\n\u001b[0;32m-> 1032\u001b[0;31m                            target_list, options, run_metadata)\n\u001b[0m\u001b[1;32m   1033\u001b[0m     \u001b[0;32melse\u001b[0m\u001b[0;34m:\u001b[0m\u001b[0;34m\u001b[0m\u001b[0m\n\u001b[1;32m   1034\u001b[0m       return self._do_call(_prun_fn, self._session, handle, feed_dict,\n",
      "\u001b[0;32m/home/semih/anaconda2/lib/python2.7/site-packages/tensorflow/python/client/session.pyc\u001b[0m in \u001b[0;36m_do_call\u001b[0;34m(self, fn, *args)\u001b[0m\n\u001b[1;32m   1050\u001b[0m         \u001b[0;32mexcept\u001b[0m \u001b[0mKeyError\u001b[0m\u001b[0;34m:\u001b[0m\u001b[0;34m\u001b[0m\u001b[0m\n\u001b[1;32m   1051\u001b[0m           \u001b[0;32mpass\u001b[0m\u001b[0;34m\u001b[0m\u001b[0m\n\u001b[0;32m-> 1052\u001b[0;31m       \u001b[0;32mraise\u001b[0m \u001b[0mtype\u001b[0m\u001b[0;34m(\u001b[0m\u001b[0me\u001b[0m\u001b[0;34m)\u001b[0m\u001b[0;34m(\u001b[0m\u001b[0mnode_def\u001b[0m\u001b[0;34m,\u001b[0m \u001b[0mop\u001b[0m\u001b[0;34m,\u001b[0m \u001b[0mmessage\u001b[0m\u001b[0;34m)\u001b[0m\u001b[0;34m\u001b[0m\u001b[0m\n\u001b[0m\u001b[1;32m   1053\u001b[0m \u001b[0;34m\u001b[0m\u001b[0m\n\u001b[1;32m   1054\u001b[0m   \u001b[0;32mdef\u001b[0m \u001b[0m_extend_graph\u001b[0m\u001b[0;34m(\u001b[0m\u001b[0mself\u001b[0m\u001b[0;34m)\u001b[0m\u001b[0;34m:\u001b[0m\u001b[0;34m\u001b[0m\u001b[0m\n",
      "\u001b[0;31mInvalidArgumentError\u001b[0m: Node 'ArgMax': Unknown input node 'batch_normalization_3/cond/Merge'"
     ]
    }
   ],
   "source": [
    "# train with 10 epochs\n",
    "sess = tf.Session()\n",
    "\n",
    "try:\n",
    "    with tf.device(\"/gpu:0\") as dev:\n",
    "        sess.run(tf.global_variables_initializer())\n",
    "        print('Training')\n",
    "        net.run(sess, mean_loss, X_train, y_train, 10, 64, 200, train_step, True)\n",
    "        print('Validation')\n",
    "        net.run(sess, mean_loss, X_val, y_val, 1, 64)\n",
    "except tf.errors.InvalidArgumentError:\n",
    "    print(\"no gpu found, please use Google Cloud if you want GPU acceleration\") \n",
    "net.run(sess, mean_loss, X_train, y_train, 10, 64, 200, train_step, True)\n",
    "    "
   ]
  },
  {
   "cell_type": "code",
   "execution_count": 43,
   "metadata": {},
   "outputs": [],
   "source": [
    "x_test2, y_test2= getBatch(x,y, batch_size=10000, n=4)"
   ]
  },
  {
   "cell_type": "code",
   "execution_count": 29,
   "metadata": {},
   "outputs": [],
   "source": [
    "x_test2 = x\n",
    "y_test2 = y"
   ]
  },
  {
   "cell_type": "code",
   "execution_count": 24,
   "metadata": {},
   "outputs": [
    {
     "data": {
      "text/plain": [
       "(10000, 10)"
      ]
     },
     "execution_count": 24,
     "metadata": {},
     "output_type": "execute_result"
    }
   ],
   "source": [
    "y_test2.shape"
   ]
  },
  {
   "cell_type": "code",
   "execution_count": 44,
   "metadata": {},
   "outputs": [
    {
     "name": "stdout",
     "output_type": "stream",
     "text": [
      "[0 0 0 0 0 0 1 0 0 0]\n",
      "[0 0 0 0 0 0 0 0 0 1]\n",
      "[0 0 0 0 0 0 0 0 0 1]\n",
      "[0 0 0 0 1 0 0 0 0 0]\n",
      "[0 1 0 0 0 0 0 0 0 0]\n",
      "[0 1 0 0 0 0 0 0 0 0]\n",
      "[0 0 1 0 0 0 0 0 0 0]\n",
      "[0 0 0 0 0 0 0 1 0 0]\n",
      "[0 0 0 0 0 0 0 0 1 0]\n",
      "[0 0 0 1 0 0 0 0 0 0]\n",
      "[0 0 0 0 1 0 0 0 0 0]\n",
      "[0 0 0 0 0 0 0 1 0 0]\n",
      "[0 0 0 0 0 0 0 1 0 0]\n",
      "[0 0 1 0 0 0 0 0 0 0]\n",
      "[0 0 0 0 0 0 0 0 0 1]\n",
      "[0 0 0 0 0 0 0 0 0 1]\n",
      "[0 0 0 0 0 0 0 0 0 1]\n",
      "[0 0 0 1 0 0 0 0 0 0]\n",
      "[0 0 1 0 0 0 0 0 0 0]\n",
      "[0 0 0 0 0 0 1 0 0 0]\n",
      "[0 0 0 0 1 0 0 0 0 0]\n",
      "[0 0 0 1 0 0 0 0 0 0]\n",
      "[0 0 0 0 0 0 1 0 0 0]\n",
      "[0 0 0 0 0 0 1 0 0 0]\n",
      "[0 0 1 0 0 0 0 0 0 0]\n",
      "[0 0 0 0 0 0 1 0 0 0]\n",
      "[0 0 0 1 0 0 0 0 0 0]\n",
      "[0 0 0 0 0 1 0 0 0 0]\n",
      "[0 0 0 0 1 0 0 0 0 0]\n",
      "[1 0 0 0 0 0 0 0 0 0]\n",
      "[1 0 0 0 0 0 0 0 0 0]\n",
      "[0 0 0 0 0 0 0 0 0 1]\n",
      "[0 1 0 0 0 0 0 0 0 0]\n",
      "[0 0 0 1 0 0 0 0 0 0]\n",
      "[0 0 0 0 1 0 0 0 0 0]\n",
      "[1 0 0 0 0 0 0 0 0 0]\n",
      "[0 0 0 1 0 0 0 0 0 0]\n",
      "[0 0 0 0 0 0 0 1 0 0]\n",
      "[0 0 0 1 0 0 0 0 0 0]\n",
      "[0 0 0 1 0 0 0 0 0 0]\n",
      "[0 0 0 0 0 1 0 0 0 0]\n",
      "[0 0 1 0 0 0 0 0 0 0]\n",
      "[0 0 1 0 0 0 0 0 0 0]\n",
      "[0 0 0 0 0 0 0 1 0 0]\n",
      "[0 1 0 0 0 0 0 0 0 0]\n",
      "[0 1 0 0 0 0 0 0 0 0]\n",
      "[0 1 0 0 0 0 0 0 0 0]\n",
      "[0 0 1 0 0 0 0 0 0 0]\n",
      "[0 0 1 0 0 0 0 0 0 0]\n",
      "[1 0 0 0 0 0 0 0 0 0]\n",
      "[0 0 0 0 0 0 0 0 0 1]\n",
      "[0 0 0 0 0 1 0 0 0 0]\n",
      "[0 0 0 0 0 0 0 1 0 0]\n",
      "[0 0 0 0 0 0 0 0 0 1]\n",
      "[0 0 1 0 0 0 0 0 0 0]\n",
      "[0 0 1 0 0 0 0 0 0 0]\n",
      "[0 0 0 0 0 1 0 0 0 0]\n",
      "[0 0 1 0 0 0 0 0 0 0]\n",
      "[0 0 0 0 1 0 0 0 0 0]\n",
      "[0 0 0 1 0 0 0 0 0 0]\n",
      "[0 1 0 0 0 0 0 0 0 0]\n",
      "[0 1 0 0 0 0 0 0 0 0]\n",
      "[0 0 0 0 0 0 0 0 1 0]\n",
      "[0 0 1 0 0 0 0 0 0 0]\n",
      "[0 1 0 0 0 0 0 0 0 0]\n",
      "[0 1 0 0 0 0 0 0 0 0]\n",
      "[0 0 0 0 1 0 0 0 0 0]\n",
      "[0 0 0 0 0 0 0 0 0 1]\n",
      "[0 0 0 0 0 0 0 1 0 0]\n",
      "[0 0 0 0 0 0 0 0 1 0]\n",
      "[0 0 0 0 0 1 0 0 0 0]\n",
      "[0 0 0 0 0 0 0 0 0 1]\n",
      "[0 0 0 0 0 0 1 0 0 0]\n",
      "[0 0 0 0 0 0 0 1 0 0]\n",
      "[0 0 0 1 0 0 0 0 0 0]\n",
      "[0 1 0 0 0 0 0 0 0 0]\n",
      "[0 0 0 0 0 0 0 0 0 1]\n",
      "[1 0 0 0 0 0 0 0 0 0]\n",
      "[0 0 0 1 0 0 0 0 0 0]\n",
      "[0 1 0 0 0 0 0 0 0 0]\n",
      "[0 0 0 1 0 0 0 0 0 0]\n",
      "[0 0 0 0 0 1 0 0 0 0]\n",
      "[0 0 0 0 1 0 0 0 0 0]\n",
      "[0 0 0 0 0 1 0 0 0 0]\n",
      "[0 0 0 0 0 0 0 1 0 0]\n",
      "[0 0 0 0 0 0 0 1 0 0]\n",
      "[0 0 0 0 1 0 0 0 0 0]\n",
      "[0 0 0 0 0 0 0 1 0 0]\n",
      "[0 0 0 0 0 0 0 0 0 1]\n",
      "[0 0 0 0 1 0 0 0 0 0]\n",
      "[0 0 1 0 0 0 0 0 0 0]\n",
      "[0 0 0 1 0 0 0 0 0 0]\n",
      "[0 0 0 0 0 0 0 0 1 0]\n",
      "[1 0 0 0 0 0 0 0 0 0]\n",
      "[0 1 0 0 0 0 0 0 0 0]\n",
      "[0 0 0 0 0 0 1 0 0 0]\n",
      "[0 1 0 0 0 0 0 0 0 0]\n",
      "[0 1 0 0 0 0 0 0 0 0]\n",
      "[0 0 0 0 1 0 0 0 0 0]\n",
      "[0 1 0 0 0 0 0 0 0 0]\n",
      "[0 0 0 0 0 0 0 0 1 0]\n",
      "[0 0 0 1 0 0 0 0 0 0]\n",
      "[0 0 0 0 0 0 0 0 0 1]\n",
      "[0 0 0 0 0 0 1 0 0 0]\n",
      "[0 0 0 0 0 0 1 0 0 0]\n",
      "[0 1 0 0 0 0 0 0 0 0]\n",
      "[0 0 0 0 0 0 0 0 1 0]\n",
      "[0 0 0 0 0 1 0 0 0 0]\n",
      "[0 0 1 0 0 0 0 0 0 0]\n",
      "[0 0 0 0 0 0 0 0 0 1]\n",
      "[0 0 0 0 0 0 0 0 0 1]\n",
      "[0 0 0 0 0 0 0 0 1 0]\n",
      "[0 1 0 0 0 0 0 0 0 0]\n",
      "[0 0 0 0 0 0 0 1 0 0]\n",
      "[0 0 0 0 0 0 0 1 0 0]\n",
      "[1 0 0 0 0 0 0 0 0 0]\n",
      "[1 0 0 0 0 0 0 0 0 0]\n",
      "[0 0 0 0 0 0 1 0 0 0]\n",
      "[0 0 0 0 0 0 0 0 0 1]\n",
      "[0 1 0 0 0 0 0 0 0 0]\n",
      "[0 0 1 0 0 0 0 0 0 0]\n",
      "[0 0 1 0 0 0 0 0 0 0]\n",
      "[0 0 0 0 0 0 0 0 0 1]\n",
      "[0 0 1 0 0 0 0 0 0 0]\n",
      "[0 0 0 0 0 0 1 0 0 0]\n",
      "[0 0 0 0 0 0 1 0 0 0]\n",
      "[0 1 0 0 0 0 0 0 0 0]\n",
      "[0 0 0 0 0 0 0 0 0 1]\n",
      "[0 0 0 0 0 1 0 0 0 0]\n",
      "[1 0 0 0 0 0 0 0 0 0]\n",
      "[0 0 0 0 1 0 0 0 0 0]\n",
      "[0 0 0 0 0 0 0 1 0 0]\n",
      "[0 0 0 0 0 0 1 0 0 0]\n",
      "[0 0 0 0 0 0 0 1 0 0]\n",
      "[0 1 0 0 0 0 0 0 0 0]\n",
      "[0 0 0 0 0 0 0 0 1 0]\n",
      "[0 1 0 0 0 0 0 0 0 0]\n",
      "[0 1 0 0 0 0 0 0 0 0]\n",
      "[0 0 1 0 0 0 0 0 0 0]\n",
      "[0 0 0 0 0 0 0 0 1 0]\n",
      "[0 1 0 0 0 0 0 0 0 0]\n",
      "[0 0 0 1 0 0 0 0 0 0]\n",
      "[0 0 0 1 0 0 0 0 0 0]\n",
      "[0 0 0 0 0 0 1 0 0 0]\n",
      "[0 0 1 0 0 0 0 0 0 0]\n",
      "[0 0 0 0 1 0 0 0 0 0]\n",
      "[0 0 0 0 0 0 0 0 0 1]\n",
      "[0 0 0 0 0 0 0 0 0 1]\n",
      "[0 0 0 0 0 1 0 0 0 0]\n",
      "[0 0 0 0 1 0 0 0 0 0]\n",
      "[0 0 0 1 0 0 0 0 0 0]\n",
      "[0 0 0 0 0 0 1 0 0 0]\n",
      "[0 0 0 0 0 0 0 1 0 0]\n",
      "[0 0 0 0 1 0 0 0 0 0]\n",
      "[0 0 0 0 0 0 1 0 0 0]\n",
      "[0 0 0 0 0 0 0 0 1 0]\n",
      "[0 0 0 0 0 1 0 0 0 0]\n",
      "[0 0 0 0 0 1 0 0 0 0]\n",
      "[0 0 0 0 1 0 0 0 0 0]\n",
      "[0 0 0 1 0 0 0 0 0 0]\n",
      "[0 1 0 0 0 0 0 0 0 0]\n",
      "[0 0 0 0 0 0 0 0 1 0]\n",
      "[0 0 0 0 1 0 0 0 0 0]\n",
      "[0 0 0 0 0 0 0 1 0 0]\n",
      "[0 0 0 0 0 0 1 0 0 0]\n",
      "[1 0 0 0 0 0 0 0 0 0]\n",
      "[0 0 0 0 0 0 0 0 0 1]\n",
      "[0 0 0 0 0 1 0 0 0 0]\n",
      "[0 1 0 0 0 0 0 0 0 0]\n",
      "[0 0 0 1 0 0 0 0 0 0]\n",
      "[0 0 0 0 0 0 0 0 1 0]\n",
      "[0 0 1 0 0 0 0 0 0 0]\n",
      "[0 0 0 0 0 0 0 1 0 0]\n",
      "[0 0 0 0 0 1 0 0 0 0]\n",
      "[0 0 0 1 0 0 0 0 0 0]\n",
      "[0 0 0 0 1 0 0 0 0 0]\n",
      "[0 1 0 0 0 0 0 0 0 0]\n",
      "[0 0 0 0 0 1 0 0 0 0]\n",
      "[0 0 0 0 0 0 0 1 0 0]\n",
      "[1 0 0 0 0 0 0 0 0 0]\n",
      "[0 0 0 0 1 0 0 0 0 0]\n",
      "[0 0 0 0 0 0 0 1 0 0]\n",
      "[0 0 0 0 0 1 0 0 0 0]\n",
      "[0 0 0 0 0 1 0 0 0 0]\n",
      "[0 1 0 0 0 0 0 0 0 0]\n",
      "[1 0 0 0 0 0 0 0 0 0]\n",
      "[0 0 0 0 0 0 0 0 0 1]\n",
      "[0 0 0 0 0 0 1 0 0 0]\n",
      "[0 0 0 0 0 0 0 0 0 1]\n",
      "[1 0 0 0 0 0 0 0 0 0]\n",
      "[0 0 0 0 0 0 0 0 1 0]\n",
      "[0 0 0 0 0 0 0 1 0 0]\n",
      "[0 0 0 0 0 0 0 0 1 0]\n",
      "[0 0 0 0 0 0 0 0 1 0]\n",
      "[0 0 1 0 0 0 0 0 0 0]\n",
      "[0 0 0 0 0 1 0 0 0 0]\n",
      "[0 0 1 0 0 0 0 0 0 0]\n",
      "[0 0 0 1 0 0 0 0 0 0]\n",
      "[0 0 0 0 0 1 0 0 0 0]\n",
      "[1 0 0 0 0 0 0 0 0 0]\n"
     ]
    }
   ],
   "source": [
    "for i in range(200):\n",
    "    print(y_test2[i])"
   ]
  },
  {
   "cell_type": "code",
   "execution_count": null,
   "metadata": {},
   "outputs": [],
   "source": [
    "test_batch = unpickle(test_file)\n",
    "        \n",
    "_X = test_batch[\"data\"]\n",
    "_Y = test_batch['labels']\n",
    "\n",
    "_X = np.array(_X, dtype=float) / 255.0"
   ]
  }
 ],
 "metadata": {
  "kernelspec": {
   "display_name": "Python 3",
   "language": "python",
   "name": "python3"
  },
  "language_info": {
   "codemirror_mode": {
    "name": "ipython",
    "version": 3
   },
   "file_extension": ".py",
   "mimetype": "text/x-python",
   "name": "python",
   "nbconvert_exporter": "python",
   "pygments_lexer": "ipython3",
   "version": "3.6.4"
  }
 },
 "nbformat": 4,
 "nbformat_minor": 2
}
